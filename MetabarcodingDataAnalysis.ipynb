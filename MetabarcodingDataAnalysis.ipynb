{
 "cells": [
  {
   "cell_type": "markdown",
   "id": "d43cd517",
   "metadata": {},
   "source": [
    "# Metabarcoding data analysis pipeline\n",
    "The following pipeline was used to analyze metabarcoding data from water and sediment samples collected in Indonesia in the INSERT PUB INFO HERE. The sequence data generated in this study were amplicons of the V9 hypervariable region of 18S rDNA, which is about 130bp in length and were sequenced on the Illumina MiSeq using paired end sequencing. \n",
    "\n",
    "For more detailed information on our study and methods please see the following publication (link publication)."
   ]
  },
  {
   "cell_type": "markdown",
   "id": "b2524ceb",
   "metadata": {},
   "source": [
    "## Quality assessment\n",
    "Quality assessment of raw reads initially done using FastQC (Andrew, 2010).\n"
   ]
  },
  {
   "cell_type": "markdown",
   "id": "bb6bf79f",
   "metadata": {},
   "source": [
    "## Sequence trimming\n",
    "Forward and reverse primer sequences were removed from the front and back ends of forward and reverse reads using Cutadapt (Martin, 2011). The first command removes the forward and reverse primer sequences from the front end of the forward and reverse reads respectively. Untrimmed outputs were saved to later evaluate potential error in the trimming process."
   ]
  },
  {
   "cell_type": "code",
   "execution_count": null,
   "id": "73db09e7",
   "metadata": {},
   "outputs": [],
   "source": [
    "cutadapt -g TTGTACACACCGCCC \\\n",
    "         -G CCTTCYGCAGGTTCACCTAC \\\n",
    "         -q 20 \\\n",
    "         --untrimmed-output untrimmed_EB${SLURM_ARRAY_TASK_ID}_R1.fastq \\\n",
    "         --untrimmed-paired-output untrimmed_EB${SLURM_ARRAY_TASK_ID}_R2.fastq \\\n",
    "         -o EB${SLURM_ARRAY_TASK_ID}_cox1_R1.fastq \\\n",
    "         -p EB${SLURM_ARRAY_TASK_ID}_cox1_R2.fastq \\\n",
    "         EB${SLURM_ARRAY_TASK_ID}_R1.fastq \\\n",
    "         EB${SLURM_ARRAY_TASK_ID}_R2.fastq"
   ]
  },
  {
   "cell_type": "markdown",
   "id": "a297dfa5",
   "metadata": {},
   "source": [
    "The second command removed the reverse complements of the forward and reverse primer sequences from the back ends of the reverse and forward reads respectively. This step also removes any sequences under 100bp and as above saves the untrimmed output to evaluate potential error in the trimming process."
   ]
  },
  {
   "cell_type": "code",
   "execution_count": null,
   "id": "8a802885",
   "metadata": {},
   "outputs": [],
   "source": [
    "cutadapt -a GTAGGTGAACCTGCRGAAGG \\\n",
    "         -A GGGCGGTGTGTACAA \\\n",
    "         -q 20 \\\n",
    "         --untrimmed-output un_untrimmed_EB${SLURM_ARRAY_TASK_ID}_R1.fastq \\\n",
    "         --untrimmed-paired-output un_untrimmed_EB${SLURM_ARRAY_TASK_ID}_R2.fastq \\\n",
    "         -o EB${SLURM_ARRAY_TASK_ID}_R1_clean.fastq \\\n",
    "         -p EB${SLURM_ARRAY_TASK_ID}_R2_clean.fastq \\\n",
    "         EB${SLURM_ARRAY_TASK_ID}_cox1_R1.fastq \n",
    "         EB${SLURM_ARRAY_TASK_ID}_cox1_R2.fastq \\\n",
    "         --pair-filter=any \\\n",
    "         --minimum-length 100 \\\n",
    "         --too-short-output too_short_EB${SLURM_ARRAY_TASK_ID}_R1.fastq \\\n",
    "         --too-short-paired-output too_short_EB${SLURM_ARRAY_TASK_ID}_R2.fastq"
   ]
  },
  {
   "cell_type": "markdown",
   "id": "b1ef992a",
   "metadata": {},
   "source": [
    "The final step carried out in the trimming process was to concatenate the untrimmed output and trimmed output from the second step above. Due to the sequencing run lengths, not all sequences had the full reverse complement sequnce at the end of the read and therefore were thrown into untrimmed output despite being high quality and correct length. The concatenation step allowed me to retain as many reads as possible while also making sure those with reverse complement squences were properly trimmed."
   ]
  },
  {
   "cell_type": "code",
   "execution_count": null,
   "id": "de07b8a9",
   "metadata": {},
   "outputs": [],
   "source": [
    "cat CleanReads/EB${SLURM_ARRAY_TASK_ID}_R1_clean.fastq un_untrimmed/un_untrimmed_EB${SLURM_ARRAY_TASK_ID}_R1.fastq > EB${SLURM_ARRAY_TASK_ID}_R1_cat.fastq\n",
    "\n",
    "cat CleanReads/EB${SLURM_ARRAY_TASK_ID}_R2_clean.fastq un_untrimmed/un_untrimmed_EB${SLURM_ARRAY_TASK_ID}_R2.fastq > EB${SLURM_ARRAY_TASK_ID}_R2_cat.fastq"
   ]
  },
  {
   "cell_type": "markdown",
   "id": "5a7ce42a",
   "metadata": {},
   "source": [
    "## Importing reads into QIIME2\n",
    "The remainder of this data analysis was carried out in QIIME2 (2020.6) (Bolyen, et al. 2019) using various plugins available within the program. Since trimming was done outside of QIIME2, sequence files were imported using a manifest file, an example of which is provided in the github repository.\n",
    "\n",
    "The first command, activates the QIIME2 environment, while the second command imports the sequence data as a QIIME2 artifcat ('.qza' file)."
   ]
  },
  {
   "cell_type": "code",
   "execution_count": null,
   "id": "216ffa79",
   "metadata": {},
   "outputs": [],
   "source": [
    "conda activate qiime2-2020.6"
   ]
  },
  {
   "cell_type": "code",
   "execution_count": null,
   "id": "5c3248c6",
   "metadata": {},
   "outputs": [],
   "source": [
    "qiime tools import \\\n",
    "--type 'SampleData[PairedEndSequencesWithQuality]' \\\n",
    "--input-path ../IndoV9_022818_manifest.csv \\\n",
    "--output-path paired-end-demux.qza \\\n",
    "--input-format PairedEndFastqManifestPhred33"
   ]
  },
  {
   "cell_type": "markdown",
   "id": "fcdadd89",
   "metadata": {},
   "source": [
    "Once imported the summarize command was used to generate an interactive quality plot of the imported sequences as a QIIME2 visualiztion ('.qzv' file)."
   ]
  },
  {
   "cell_type": "code",
   "execution_count": null,
   "id": "087af663",
   "metadata": {},
   "outputs": [],
   "source": [
    "qiime feature-table summarize \\\n",
    "--i-table paired-end-demux.qza \\\n",
    "--o-visualization paired-end-demux.qzv \\\n",
    "--m-sample-metadata-file Master_V9_MappingFile.txt"
   ]
  },
  {
   "cell_type": "markdown",
   "id": "0a002808",
   "metadata": {},
   "source": [
    "## Denoising and merging\n",
    "Paired sequences were denoised and merged using the DADA2 plugin within QIIME2 (Callahan, et al. 2013). In this step, sequencing errors were detected and corrected where possible, filtered, and merged. Following merging, the merged sequences were checked for chimeras and chimeras were then filtered out.\n",
    "\n",
    "Truncation lengths for forward and reverse reads were chosen using the interactive quality plot generated in the previous step. Reads were truncated at the position where quality began to drop off, while maintaining at least 30bp of overlap between forward and reverse reads for merging.\n",
    "\n",
    "The final output of this step is a list of amplicon sequence variants (ASVs) (`rep-seqs.qza`), an ASV table (how many of each ASV were in each sample)(`table.qza`), and a statistics summary showing how many reads were lost at each step (`stats.qza`). "
   ]
  },
  {
   "cell_type": "code",
   "execution_count": null,
   "id": "a458ef50",
   "metadata": {},
   "outputs": [],
   "source": [
    "qiime dada2 denoise-paired \\\n",
    "--i-demultiplexed-seqs paired-end-demux.qza \\\n",
    "--p-trunc-len-f 100 \\\n",
    "--p-trunc-len-r 100 \\\n",
    "--o-table table.qza \\\n",
    "--o-representative-sequences rep-seqs.qza \\\n",
    "--o-denoising-stats stats.qza"
   ]
  },
  {
   "cell_type": "markdown",
   "id": "2ed3a1cf",
   "metadata": {},
   "source": [
    "To evaluate the denoising/merging statistics and view information from the ASV table and list, we generated visualizations (`.qzv` files) for each of the `.qza` files generated above using the `metadata tabulate`,`summarize`, and `tabulate-seqs` commands."
   ]
  },
  {
   "cell_type": "code",
   "execution_count": null,
   "id": "a006da36",
   "metadata": {},
   "outputs": [],
   "source": [
    "qiime metadata tabulate \\\n",
    "--m-input-file stats.qza \\\n",
    "--o-visualization stats.qzv"
   ]
  },
  {
   "cell_type": "code",
   "execution_count": null,
   "id": "37e52e99",
   "metadata": {},
   "outputs": [],
   "source": [
    "qiime feature-table summarize \\\n",
    "--i-table table.qza \\\n",
    "--o-visualization table.qzv \\\n",
    "--m-sample-metadata-file Master_V9_MappingFile.txt"
   ]
  },
  {
   "cell_type": "code",
   "execution_count": null,
   "id": "2bd7d862",
   "metadata": {},
   "outputs": [],
   "source": [
    "qiime feature-table tabulate-seqs \\\n",
    "--i-data rep-seqs.qza \\\n",
    "--o-visualization rep-seqs.qzv"
   ]
  },
  {
   "cell_type": "markdown",
   "id": "ef747b34",
   "metadata": {},
   "source": [
    "To view these and any other visualizations generated in this script we can use `qiime tools view`."
   ]
  },
  {
   "cell_type": "code",
   "execution_count": null,
   "id": "9b745682",
   "metadata": {},
   "outputs": [],
   "source": [
    "qiime tools view stats.qzv"
   ]
  },
  {
   "cell_type": "code",
   "execution_count": null,
   "id": "12a2623f",
   "metadata": {},
   "outputs": [],
   "source": [
    "qiime tools view table.qzv"
   ]
  },
  {
   "cell_type": "code",
   "execution_count": null,
   "id": "91c167ce",
   "metadata": {},
   "outputs": [],
   "source": [
    "qiime tools view rep-seqs.qzv"
   ]
  },
  {
   "cell_type": "markdown",
   "id": "b121e5c7",
   "metadata": {},
   "source": [
    "*OTU Clustering*\n",
    "\n",
    "Diversity statistics and other analyses were run first using ASVs and later on operational taxonomic units (OTUs) to compare outputs and choose the one that best represented our data and study goals. Below I include the command used to cluster our ASVs into OTUs at 97% and 99% similarity, but the rest of the script provided in this notebook will continue with the ASV data."
   ]
  },
  {
   "cell_type": "code",
   "execution_count": null,
   "id": "5e3b474e",
   "metadata": {},
   "outputs": [],
   "source": [
    "qiime vsearch cluster-features-de-novo \\\n",
    "  --i-table table.qza \\\n",
    "  --i-sequences rep-seqs.qza \\\n",
    "  --p-perc-identity 0.99 \\\n",
    "  --o-clustered-table otu-table-99.qza \\\n",
    "  --o-clustered-sequences otus-99.qza"
   ]
  },
  {
   "cell_type": "code",
   "execution_count": null,
   "id": "8d226ea6",
   "metadata": {},
   "outputs": [],
   "source": [
    "qiime vsearch cluster-features-de-novo \\\n",
    "  --i-table table.qza \\\n",
    "  --i-sequences rep-seqs.qza \\\n",
    "  --p-perc-identity 0.97 \\\n",
    "  --o-clustered-table otu-table-97.qza \\\n",
    "  --o-clustered-sequences otus-97.qza"
   ]
  },
  {
   "cell_type": "markdown",
   "id": "9d072ebc",
   "metadata": {},
   "source": [
    "Ultimately, our statistics showed the same results between ASV and OTU data. Though the scripts proceed forward with ASV data, the OTU results can easily be obtained using the same commands and substituting in the OTU table (`otu-table-99.qza` or `otu-table-97.qza`) and OTU list (`otus-99.qza` or `otus-97.qza`) for the ASV table (`table.qza`) and ASV list (`rep-seqs.qza`)."
   ]
  },
  {
   "cell_type": "markdown",
   "id": "583d9a73",
   "metadata": {},
   "source": [
    "## Align ASVs and construct tree\n",
    "In this step I used MAFFT to align resulting ASVs and construct and then root a tree. This is all done in the one command provided below.\n",
    "\n",
    "In the case where I was combining samples from multilpe sequencing runs an additional step was done prior to this to combine `rep-seqs.qza` and `table.qza` files from individual sequencing runs into a single combined `rep-seqs.qza` and `table.qza`.\n",
    "\n",
    "The output from this step will be used later for diversity statistics and other analyses."
   ]
  },
  {
   "cell_type": "code",
   "execution_count": null,
   "id": "a67b99f8",
   "metadata": {},
   "outputs": [],
   "source": [
    "qiime phylogeny align-to-tree-mafft-fasttree \\\n",
    "--i-sequences rep-seqs.qza \\\n",
    "--o-alignment aligned-rep-seqs.qza \\\n",
    "--o-masked-alignment masked-aligned-rep-seqs.qza \\\n",
    "--o-tree unrooted-tree.qza \\\n",
    "--o-rooted-tree rooted-tree.qza"
   ]
  },
  {
   "cell_type": "markdown",
   "id": "9d46a91a",
   "metadata": {},
   "source": [
    "## Building and training taxonomic classifier\n",
    "The next step was to construct and train a feature classifier to my target region (18S V9) using a reference database. I used the Protist Ribosomal Reference (PR2) Database v4.12.0 (https://pr2-database.org/).\n",
    "\n",
    "The first two commands import the reference sequences (`ref-seqs.qza`) and reference taxonomy (`ref-taxonomy.qza`) into QIIME2 respectively."
   ]
  },
  {
   "cell_type": "code",
   "execution_count": null,
   "id": "30eefe2a",
   "metadata": {},
   "outputs": [],
   "source": [
    "qiime tools import \\\n",
    "--type 'FeatureData[Sequence]' \\\n",
    "--input-path /users/erinborbee/Desktop/DataAnalysis/pr2-classifier/pr2_version_4.12.0_18S_mothur.fasta \\\n",
    "--output-path pr2-seqs.qza"
   ]
  },
  {
   "cell_type": "code",
   "execution_count": null,
   "id": "fc36c4d6",
   "metadata": {},
   "outputs": [],
   "source": [
    "qiime tools import \\\n",
    "--type 'FeatureData[Taxonomy]' \\\n",
    "--input-format HeaderlessTSVTaxonomyFormat \\\n",
    "--input-path  /users/erinborbee/Desktop/DataAnalysis/pr2-classifier/pr2_version_4.12.0_18S_mothur.tax \\\n",
    "--output-path pr2-taxonomy.qza"
   ]
  },
  {
   "cell_type": "markdown",
   "id": "cbeafb53",
   "metadata": {},
   "source": [
    "Once reference sequences and taxonomy are imported, the next step was to extract our target region (18S V9) from the reference sequences (`ref-seqs.qza`) using our primer sequences. We did this because studies from other amplicon regions have shown to have improved taxonomic classification when using a trained classifier."
   ]
  },
  {
   "cell_type": "code",
   "execution_count": null,
   "id": "46405eca",
   "metadata": {},
   "outputs": [],
   "source": [
    "qiime feature-classifier extract-reads \\\n",
    "--i-sequences pr2-seqs.qza \\\n",
    "--p-f-primer TTGTACACACCGCCC \\\n",
    "--p-r-primer CCTTCYGCAGGTTCACCTAC \\\n",
    "--o-reads ref-seqs.qza"
   ]
  },
  {
   "cell_type": "markdown",
   "id": "09403957",
   "metadata": {},
   "source": [
    "The final step in this process was to train the actual classifier, which was done using the command below."
   ]
  },
  {
   "cell_type": "code",
   "execution_count": null,
   "id": "90da86e2",
   "metadata": {},
   "outputs": [],
   "source": [
    "qiime feature-classifier fit-classifier-naive-bayes \\\n",
    "--i-reference-reads ref-seqs.qza \\\n",
    "--i-reference-taxonomy pr2-taxonomy.qza \\\n",
    "--o-classifier pr2-classifier.qza"
   ]
  },
  {
   "cell_type": "markdown",
   "id": "e9dae3f7",
   "metadata": {},
   "source": [
    "## Taxonomic assignment\n",
    "Once the classifier was trained, we then assigned taxonomy to our ASVs and visualized community composition using the taxa barplot command in QIIME2.\n",
    "\n",
    "The first command provided assigns taxonomy to our ASVs and the second and third commands create visualizations of the taxonomy table (`taxonomy.qzv`) and community barplot respectively (`taxa-barplot.qzv`)."
   ]
  },
  {
   "cell_type": "code",
   "execution_count": null,
   "id": "39ee8c27",
   "metadata": {},
   "outputs": [],
   "source": [
    "qiime feature-classifier classify-sklearn \\\n",
    "--i-classifier pr2-classifier.qza \\\n",
    "--i-reads rep-seqs.qza \\\n",
    "--o-classification taxonomy.qza"
   ]
  },
  {
   "cell_type": "code",
   "execution_count": null,
   "id": "8b7dfe7e",
   "metadata": {},
   "outputs": [],
   "source": [
    "qiime metadata tabulate \\\n",
    "--m-input-file taxonomy.qza \\\n",
    "--o-visualization taxonomy.qzv"
   ]
  },
  {
   "cell_type": "code",
   "execution_count": null,
   "id": "386f4645",
   "metadata": {},
   "outputs": [],
   "source": [
    "qiime taxa barplot \\\n",
    "--i-table table.qza \\\n",
    "--i-taxonomy taxonomy.qza \\\n",
    "--m-metadata-file Master_V9_MappingFile.txt \\\n",
    "--o-visualization taxa-bar-plots.qzv"
   ]
  },
  {
   "cell_type": "code",
   "execution_count": null,
   "id": "0405f4cb",
   "metadata": {},
   "outputs": [],
   "source": [
    "qiime tools view taxa-bar-plots.qzv"
   ]
  },
  {
   "cell_type": "markdown",
   "id": "6d5cbb45",
   "metadata": {},
   "source": [
    "### Filtering to protist taxa\n",
    "Following taxonomic assignment the ASV table and ASV list were filtered to only sequences belonging to the Stramenopiles, Alveolates, and Rhizaria. While these are not the only protist lineages, they encompass the most abundant and diversity microbial eukaryotic groups as established by other metabarcoding surveys conducted across the world's oceans."
   ]
  },
  {
   "cell_type": "code",
   "execution_count": null,
   "id": "5444b037",
   "metadata": {},
   "outputs": [],
   "source": [
    "qiime taxa filter-table \\\n",
    "--i-table table.qza \\\n",
    "--i-taxonomy taxonomy.qza \\\n",
    "--p-include Stramenopiles,Alveolata,Rhizaria \\\n",
    "--o-filtered-table SAR_table.qza"
   ]
  },
  {
   "cell_type": "markdown",
   "id": "6d847cb4",
   "metadata": {},
   "source": [
    "Once the table was generated, we used the summarize command to generate a visualization (`.qzv`). We then used this visualization to find the sampling depth needed for the core diversity metrics command."
   ]
  },
  {
   "cell_type": "code",
   "execution_count": null,
   "id": "bc26097c",
   "metadata": {},
   "outputs": [],
   "source": [
    "qiime feature-table summarize \\\n",
    "--i-table SAR_table.qza \\\n",
    "--o-visualization SAR_table.qzv \\\n",
    "--m-sample-metadata-file Master_V9_MappingFile.txt"
   ]
  },
  {
   "cell_type": "markdown",
   "id": "c00afbac",
   "metadata": {},
   "source": [
    "## Diversity statistics\n",
    "Diversity statististics were calculated in QIIME2 using the `core-metrics-phylogenetic` command, followed by individual commands for testing significance of different diversity metrics across individual metadata variables.\n",
    "\n",
    "The `core-metrics-phylogenetic` command generates a directory with various alpha and beta diversity metrics including Shannon, richness, faith, and eveness for alpha diversity and Bray-Curtis, Jaccard, and weighted and unweighted UniFrac for Beta diversity. The sampling depth was chosen by using the `table.qzv` file generated above and using the minimum frequency of sequences across all of the samples."
   ]
  },
  {
   "cell_type": "code",
   "execution_count": null,
   "id": "a51ddc8b",
   "metadata": {},
   "outputs": [],
   "source": [
    "qiime tools view SAR_table.qzv"
   ]
  },
  {
   "cell_type": "code",
   "execution_count": null,
   "id": "1200c2cc",
   "metadata": {},
   "outputs": [],
   "source": [
    " qiime diversity core-metrics-phylogenetic \\\n",
    " --i-phylogeny rooted-tree.qza \\\n",
    " --i-table SAR_table.qza \\\n",
    " --p-sampling-depth [minimumFrequency] \\\n",
    " --m-metadata-file Master_V9_MappingFile.txt \\\n",
    " --output-dir core-metrics-results"
   ]
  },
  {
   "cell_type": "markdown",
   "id": "f4f54bcd",
   "metadata": {},
   "source": [
    "### Rarefaction\n",
    "Rarefaction curves were plotted to evaluate sampling depth and see if sampling reached saturation. The same sampling depth mentioned in the above command was used here."
   ]
  },
  {
   "cell_type": "code",
   "execution_count": null,
   "id": "94c2f0c6",
   "metadata": {},
   "outputs": [],
   "source": [
    "qiime diversity alpha-rarefaction \\\n",
    "--i-table SAR_table.qza \\\n",
    "--i-phylogeny rooted-tree.qza \\\n",
    "--p-max-depth [minimumFrequency] \\\n",
    "--m-metadata-file Master_V9_MappingFile.txt \\\n",
    "--o-visualization alpha-rarefaction.qzv"
   ]
  },
  {
   "cell_type": "markdown",
   "id": "28b6d667",
   "metadata": {},
   "source": [
    "### Alpha Diversity\n",
    "The variables we were interested in testing significance for were categorical variables. Therefore, Kruskal-Wallis was used to test for significance of these variables for alpha diversity metrics (Shannon diversity & richness). The categorical variables for our samples are contained in the `Master_V9_MappingFile.txt`. The first command generates a visualization for the significance of Shannon diversity by metadata groups and the second command generates a visualization for the significance of ASV richness by metadata groups."
   ]
  },
  {
   "cell_type": "code",
   "execution_count": null,
   "id": "a48ab233",
   "metadata": {},
   "outputs": [],
   "source": [
    "qiime diversity alpha-group-significance \\\n",
    "--i-alpha-diversity core-metrics-results/shannon_vector.qza \\\n",
    "--m-metadata-file Master_V9_MappingFile.txt \\\n",
    "--o-visualization core-metrics-results/shannon-group-significance.qzv"
   ]
  },
  {
   "cell_type": "code",
   "execution_count": null,
   "id": "ee409ada",
   "metadata": {},
   "outputs": [],
   "source": [
    "qiime diversity alpha-group-significance \\\n",
    "--i-alpha-diversity core-metrics-results/observed_features_vector.qza \\\n",
    "--m-metadata-file Master_V9_MappingFile.txt \\\n",
    "--o-visualization core-metrics-results/richness-group-significance.qzv"
   ]
  },
  {
   "cell_type": "markdown",
   "id": "f40d7c92",
   "metadata": {},
   "source": [
    "### Beta Diversity\n",
    "Since the variables we were interested in again were categorical variables, ANOSIM and PERMANOVA were used to test for significance in community composition shifts across different metadata groups. Ultimately we chose to stick with ANOSIM because it was the more conservative approach given our experimental design. The following commands create visualizations for the ANOSIM statistics for differences in beta diversity across sampling regions, protected vs unprotected areas, and different fisheries management regimes in that order."
   ]
  },
  {
   "cell_type": "code",
   "execution_count": null,
   "id": "977820e2",
   "metadata": {},
   "outputs": [],
   "source": [
    "qiime diversity beta-group-significance \\\n",
    "--i-distance-matrix core-metrics-results/bray_curtis_distance_matrix.qza \\\n",
    "--m-metadata-file Master_V9_MappingFile.txt \\\n",
    "--m-metadata-column region \\\n",
    "--o-visualization core-metrics-results/bray_curtis-region-significance.qzv \\\n",
    "--p-pairwise --p-method anosim"
   ]
  },
  {
   "cell_type": "code",
   "execution_count": null,
   "id": "d1daa411",
   "metadata": {},
   "outputs": [],
   "source": [
    "qiime diversity beta-group-significance \\\n",
    "--i-distance-matrix core-metrics-results/bray_curtis_distance_matrix.qza \\\n",
    "--m-metadata-file Master_V9_MappingFile.txt \\\n",
    "--m-metadata-column MPA \\\n",
    "--o-visualization core-metrics-results/bray_curtis-MPA-significance.qzv \\\n",
    "--p-pairwise --p-method anosim"
   ]
  },
  {
   "cell_type": "code",
   "execution_count": null,
   "id": "fddb9610",
   "metadata": {},
   "outputs": [],
   "source": [
    "qiime diversity beta-group-significance \\\n",
    "--i-distance-matrix core-metrics-results/bray_curtis_distance_matrix.qza \\\n",
    "--m-metadata-file Master_V9_MappingFile.txt \\\n",
    "--m-metadata-column restriction \\\n",
    "--o-visualization core-metrics-results/bray_curtis-restriction-significance.qzv \\\n",
    "--p-pairwise --p-method anosim"
   ]
  },
  {
   "cell_type": "markdown",
   "id": "2a197ba7",
   "metadata": {},
   "source": [
    "In order to visualize beta diversity results, an emperor plot was constructed using the PCoA vector generated in the `core-metrics-phylogenetic` command. This command produces an interactive, 3-dimensional ordination that allows you to change color and shapes of points by any metadata variable."
   ]
  },
  {
   "cell_type": "code",
   "execution_count": null,
   "id": "5d84e157",
   "metadata": {},
   "outputs": [],
   "source": [
    "qiime emperor plot \\\n",
    "--i-pcoa core-metrics-results/bray_curtis_pcoa_results.qza \\\n",
    "--m-metadata-file  Master_V9_MappingFile.txt  \\\n",
    "--o-visualization core-metrics-results/bray-curtis-emperor.qzv"
   ]
  }
 ],
 "metadata": {
  "kernelspec": {
   "display_name": "Bash",
   "language": "bash",
   "name": "bash"
  },
  "language_info": {
   "codemirror_mode": "shell",
   "file_extension": ".sh",
   "mimetype": "text/x-sh",
   "name": "bash"
  }
 },
 "nbformat": 4,
 "nbformat_minor": 5
}
